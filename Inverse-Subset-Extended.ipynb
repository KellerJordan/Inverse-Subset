{
 "cells": [
  {
   "cell_type": "markdown",
   "id": "cb751905",
   "metadata": {},
   "source": [
    "# Inverse-Subset\n",
    "\n",
    "This notebook constructs a subset of CIFAR-10 cat/dog data, on which it is better to train with inverted labels, rather than the true labels.\n",
    "\n",
    "Steps executed:\n",
    "1. Train a model on 15% of cat/dog training examples (-> 75% acc).\n",
    "2. On the remaining 85% of examples, evaluate the model.\n",
    "3. Take the 15% of those examples which is most confidently mis-predicted by the model.\n",
    "4. Train a new model on this subset (-> 37% acc).\n",
    "\n",
    "If the labels of this subset are inverted, it should be clear due to symmetry that this will yield 100 - 37 = 63% accuracy.\n",
    "\n",
    "This version uses FFCV so that training isn't painfully slow."
   ]
  },
  {
   "cell_type": "code",
   "execution_count": 2,
   "id": "0a89d3c6",
   "metadata": {},
   "outputs": [],
   "source": [
    "import os\n",
    "\n",
    "from tqdm import tqdm\n",
    "import numpy as np\n",
    "import pandas as pd\n",
    "import sklearn.metrics\n",
    "import matplotlib.pyplot as plt\n",
    "\n",
    "import torch\n",
    "from torch import nn\n",
    "from torch.cuda.amp import GradScaler, autocast\n",
    "from torch.nn import CrossEntropyLoss\n",
    "from torch.optim import SGD, lr_scheduler\n",
    "import torchvision\n",
    "from torchvision.datasets import CIFAR10\n",
    "import torchvision.transforms as T\n",
    "from torch.utils.data import DataLoader\n",
    "\n",
    "from ffcv.fields.decoders import IntDecoder, SimpleRGBImageDecoder\n",
    "from ffcv.loader import Loader, OrderOption\n",
    "from ffcv.transforms import RandomHorizontalFlip, Cutout, \\\n",
    "    RandomTranslate, Convert, ToDevice, ToTensor, ToTorchImage\n",
    "from ffcv.transforms.common import Squeeze\n",
    "\n",
    "from ffcv.writer import DatasetWriter\n",
    "from ffcv.fields import IntField, RGBImageField"
   ]
  },
  {
   "cell_type": "code",
   "execution_count": 3,
   "id": "e84dec73",
   "metadata": {},
   "outputs": [],
   "source": [
    "def submask(mask, m):\n",
    "    xx = torch.rand(len(mask))\n",
    "    q = xx[mask].quantile(m/mask.sum())\n",
    "    return mask & (xx < q)\n",
    "\n",
    "class Ensemble(nn.Module):\n",
    "    def __init__(self, models):\n",
    "        super().__init__()\n",
    "        self.models = nn.ModuleList(models)\n",
    "    def forward(self, x):\n",
    "        outs = [m(x) for m in self.models]\n",
    "        return torch.stack(outs).mean(0)"
   ]
  },
  {
   "cell_type": "code",
   "execution_count": 5,
   "id": "6103bd35",
   "metadata": {},
   "outputs": [],
   "source": [
    "CIFAR_MEAN = [125.307, 122.961, 113.8575]\n",
    "CIFAR_STD = [51.5865, 50.847, 51.255]\n",
    "\n",
    "class TransformWrapperDataset:\n",
    "    def __init__(self, dset, transform):\n",
    "        self.dset = dset\n",
    "        self.transform = transform\n",
    "        \n",
    "    def __len__(self):\n",
    "        return len(self.dset)\n",
    "    \n",
    "    def __getitem__(self, i):\n",
    "        x, y = self.dset[i]\n",
    "        return self.transform(x), y\n",
    "\n",
    "class CifarSubset:\n",
    "    def __init__(self, ii, train=True, aug=None, invert_ii=None):\n",
    "        self.ii = ii\n",
    "        self.dset = CIFAR10('/tmp', train=train, download=True)\n",
    "        if isinstance(invert_ii, torch.Tensor):\n",
    "            invert_ii = invert_ii.tolist()\n",
    "        self.invert_ii = set(invert_ii) if invert_ii else set()\n",
    "        \n",
    "    def __len__(self):\n",
    "        return len(self.ii)\n",
    "    \n",
    "    def __getitem__(self, i):\n",
    "        x, y = self.dset[self.ii[i]]\n",
    "        if self.ii[i] in self.invert_ii:\n",
    "            if y == 3:\n",
    "                y = 5\n",
    "            elif y == 5:\n",
    "                y = 3\n",
    "        return x, y\n",
    "    \n",
    "    def loader(self, bs=500, aug=False, shuffle=None):\n",
    "        normalize = T.Normalize(np.array(CIFAR_MEAN)/255, np.array(CIFAR_STD)/255)\n",
    "        if shuffle is None:\n",
    "            shuffle = aug\n",
    "        if aug:\n",
    "            transform = T.Compose([\n",
    "                T.RandomHorizontalFlip(),\n",
    "                T.RandomCrop(32, padding=2),\n",
    "                T.ToTensor(),\n",
    "                normalize,\n",
    "            ])\n",
    "        else:\n",
    "            transform = T.Compose([\n",
    "                T.ToTensor(),\n",
    "                normalize,\n",
    "            ])\n",
    "        loader = DataLoader(TransformWrapperDataset(self, transform),\n",
    "                            batch_size=bs, shuffle=shuffle, num_workers=8)\n",
    "        return loader\n",
    "    \n",
    "    def ffcv(self, name, bs=500, aug=False, shuffle=None, invert=False):\n",
    "        p = f'/tmp/cifar_{name}.beton'\n",
    "        if os.path.exists(p):\n",
    "            os.remove(p)\n",
    "        if not os.path.exists(p):\n",
    "            print('Writing new ffcv dset...')\n",
    "            writer = DatasetWriter(p, {\n",
    "                'image': RGBImageField(),\n",
    "                'label': IntField()\n",
    "            })  \n",
    "            writer.from_indexed_dataset(self)\n",
    "\n",
    "        device = 'cuda:0'\n",
    "        label_pipeline = [IntDecoder(), ToTensor(), ToDevice(device), Squeeze()]\n",
    "        image_pipeline = [SimpleRGBImageDecoder()]\n",
    "        if aug:\n",
    "            image_pipeline.extend([\n",
    "                RandomHorizontalFlip(),\n",
    "                RandomTranslate(padding=2),\n",
    "#                 Cutout(8, tuple(map(int, CIFAR_MEAN))),\n",
    "            ])  \n",
    "        image_pipeline.extend([\n",
    "            ToTensor(),\n",
    "            ToDevice(device, non_blocking=True),\n",
    "            ToTorchImage(),\n",
    "            Convert(torch.float16),\n",
    "            T.Normalize(CIFAR_MEAN, CIFAR_STD),\n",
    "        ])\n",
    "        if shuffle is None:\n",
    "            shuffle = aug\n",
    "        order_opt = OrderOption.RANDOM if shuffle else OrderOption.SEQUENTIAL\n",
    "        loader = Loader(p,\n",
    "                        batch_size=bs,\n",
    "                        num_workers=8,\n",
    "                        order=order_opt,\n",
    "                        drop_last=aug,\n",
    "                        pipelines={'image': image_pipeline,\n",
    "                                   'label': label_pipeline})\n",
    "        if invert:\n",
    "            return InvertLoader(loader)\n",
    "        else:\n",
    "            return loader"
   ]
  },
  {
   "cell_type": "code",
   "execution_count": 6,
   "id": "a16e1bf7",
   "metadata": {},
   "outputs": [],
   "source": [
    "def create_model(w=1.0):\n",
    "\n",
    "    class Mul(nn.Module):\n",
    "        def __init__(self, weight):\n",
    "            super().__init__()\n",
    "            self.weight = weight\n",
    "        def forward(self, x): \n",
    "            return x * self.weight\n",
    "\n",
    "    class Flatten(nn.Module):\n",
    "        def forward(self, x): \n",
    "            return x.view(x.size(0), -1) \n",
    "\n",
    "    class Residual(nn.Module):\n",
    "        def __init__(self, module):\n",
    "            super().__init__()\n",
    "            self.module = module\n",
    "        def forward(self, x): \n",
    "            return x + self.module(x)\n",
    "\n",
    "    def conv_bn(channels_in, channels_out, kernel_size=3, stride=1, padding=1):\n",
    "        return nn.Sequential(\n",
    "                nn.Conv2d(channels_in, channels_out,\n",
    "                          kernel_size=kernel_size, stride=stride, padding=padding,\n",
    "                          bias=False),\n",
    "                nn.BatchNorm2d(channels_out),\n",
    "                nn.ReLU(inplace=True)\n",
    "        )   \n",
    "\n",
    "    NUM_CLASSES = 10\n",
    "    w0 = int(w*64)\n",
    "    w1 = int(w*128)\n",
    "    w2 = int(w*256)\n",
    "    model = nn.Sequential(\n",
    "        conv_bn(3, w0, kernel_size=3, stride=1, padding=1),\n",
    "        conv_bn(w0, w1, kernel_size=5, stride=2, padding=2),\n",
    "        Residual(nn.Sequential(conv_bn(w1, w1), conv_bn(w1, w1))),\n",
    "        conv_bn(w1, w2, kernel_size=3, stride=1, padding=1),\n",
    "        nn.MaxPool2d(2),\n",
    "        Residual(nn.Sequential(conv_bn(w2, w2), conv_bn(w2, w2))),\n",
    "        conv_bn(w2, w1, kernel_size=3, stride=1, padding=0),\n",
    "        nn.AdaptiveMaxPool2d((1, 1)),\n",
    "        Flatten(),\n",
    "        nn.Linear(w1, NUM_CLASSES, bias=False),\n",
    "        Mul(0.2)\n",
    "    )   \n",
    "    model = model.to(memory_format=torch.channels_last)\n",
    "    return model"
   ]
  },
  {
   "cell_type": "code",
   "execution_count": 7,
   "id": "31e22780",
   "metadata": {},
   "outputs": [],
   "source": [
    "def evaluate(model):\n",
    "    model.eval()\n",
    "    correct = 0\n",
    "    count = 0\n",
    "    with torch.no_grad(), autocast():\n",
    "        for inputs, labels in test_loader:\n",
    "            outputs = model(inputs.cuda())\n",
    "            pred = outputs.argmax(dim=1)\n",
    "            correct += (labels.cuda() == pred).sum().item()\n",
    "            count += len(labels)\n",
    "    return correct / count"
   ]
  },
  {
   "cell_type": "code",
   "execution_count": 8,
   "id": "03156739",
   "metadata": {},
   "outputs": [],
   "source": [
    "loss_fn = CrossEntropyLoss()\n",
    "\n",
    "def train(loader, epochs=150):\n",
    "\n",
    "    # lr = 0.5\n",
    "    lr = 1.0\n",
    "    n_iters = epochs * len(train_loader)\n",
    "    lr_schedule = np.interp(np.arange(1+n_iters), [0, n_iters], [1, 0])\n",
    "    \n",
    "    model = create_model(w=1.0).cuda()\n",
    "    scaler = GradScaler()\n",
    "\n",
    "    optimizer = SGD(model.parameters(), lr=lr, momentum=0.9, weight_decay=5e-4)\n",
    "    scheduler = lr_scheduler.LambdaLR(optimizer, lr_schedule.__getitem__)\n",
    "\n",
    "    losses = []\n",
    "    accs = []\n",
    "    for epoch in tqdm(range(epochs)):\n",
    "        model.train()\n",
    "        for inputs, labels in loader:\n",
    "            with autocast():\n",
    "                outputs = model(inputs.cuda())\n",
    "                loss = loss_fn(outputs, labels.cuda())\n",
    "            scaler.scale(loss).backward()\n",
    "            losses.append(loss.item())\n",
    "            scaler.step(optimizer)\n",
    "            scaler.update()\n",
    "            scheduler.step()\n",
    "        if epoch % 5 == 0:\n",
    "            acc = evaluate(model)\n",
    "            accs.append(acc)\n",
    "    plt.figure(figsize=(3, 2))\n",
    "    plt.title('loss')\n",
    "    plt.plot(losses)\n",
    "    plt.ylim(0, 2.5)\n",
    "    plt.show()\n",
    "    plt.figure(figsize=(3, 2))\n",
    "    plt.title('acc')\n",
    "    plt.plot(accs)\n",
    "    plt.show()\n",
    "    return model"
   ]
  },
  {
   "cell_type": "code",
   "execution_count": 9,
   "id": "082209e2",
   "metadata": {
    "scrolled": true
   },
   "outputs": [
    {
     "name": "stdout",
     "output_type": "stream",
     "text": [
      "Files already downloaded and verified\n",
      "Files already downloaded and verified\n",
      "Writing new ffcv dset...\n"
     ]
    },
    {
     "name": "stderr",
     "output_type": "stream",
     "text": [
      "100%|██████████████████████████████████████████████████████████████████████████████████████████████████████████████████████████████████████████████████| 2000/2000 [00:00<00:00, 19957.24it/s]\n"
     ]
    }
   ],
   "source": [
    "## cat/dog test-set\n",
    "tgt_test = torch.tensor(CIFAR10('/tmp', train=False, download=True).targets)\n",
    "mask = (tgt_test == 3) | (tgt_test == 5)\n",
    "test_loader = CifarSubset(torch.arange(10000)[mask], train=False).ffcv('catdog_test', aug=False)"
   ]
  },
  {
   "cell_type": "code",
   "execution_count": 10,
   "id": "abe11132",
   "metadata": {
    "scrolled": false
   },
   "outputs": [
    {
     "name": "stdout",
     "output_type": "stream",
     "text": [
      "Files already downloaded and verified\n",
      "Files already downloaded and verified\n",
      "Writing new ffcv dset...\n"
     ]
    },
    {
     "name": "stderr",
     "output_type": "stream",
     "text": [
      "100%|███████████████████████████████████████████████████████████████████████████████████████████████████████████████████████████████████████████████████| 1000/1000 [00:00<00:00, 9977.29it/s]\n",
      "100%|███████████████████████████████████████████████████████████████████████████████████████████████████████████████████████████████████████████████████████| 150/150 [00:20<00:00,  7.15it/s]\n"
     ]
    },
    {
     "data": {
      "image/png": "[encoded data removed]",
      "text/plain": [
       "<Figure size 216x144 with 1 Axes>"
      ]
     },
     "metadata": {
      "needs_background": "light"
     },
     "output_type": "display_data"
    },
    {
     "data": {
      "image/png": "[encoded data removed]",
      "text/plain": [
       "<Figure size 216x144 with 1 Axes>"
      ]
     },
     "metadata": {
      "needs_background": "light"
     },
     "output_type": "display_data"
    },
    {
     "name": "stderr",
     "output_type": "stream",
     "text": [
      "100%|███████████████████████████████████████████████████████████████████████████████████████████████████████████████████████████████████████████████████████| 150/150 [00:14<00:00, 10.29it/s]\n"
     ]
    },
    {
     "data": {
      "image/png": "[encoded data removed]",
      "text/plain": [
       "<Figure size 216x144 with 1 Axes>"
      ]
     },
     "metadata": {
      "needs_background": "light"
     },
     "output_type": "display_data"
    },
    {
     "data": {
      "image/png": "[encoded data removed]",
      "text/plain": [
       "<Figure size 216x144 with 1 Axes>"
      ]
     },
     "metadata": {
      "needs_background": "light"
     },
     "output_type": "display_data"
    },
    {
     "name": "stderr",
     "output_type": "stream",
     "text": [
      "100%|███████████████████████████████████████████████████████████████████████████████████████████████████████████████████████████████████████████████████████| 150/150 [00:14<00:00, 10.27it/s]\n"
     ]
    },
    {
     "data": {
      "image/png": "[encoded data removed]",
      "text/plain": [
       "<Figure size 216x144 with 1 Axes>"
      ]
     },
     "metadata": {
      "needs_background": "light"
     },
     "output_type": "display_data"
    },
    {
     "data": {
      "image/png": "[encoded data removed]",
      "text/plain": [
       "<Figure size 216x144 with 1 Axes>"
      ]
     },
     "metadata": {
      "needs_background": "light"
     },
     "output_type": "display_data"
    },
    {
     "name": "stderr",
     "output_type": "stream",
     "text": [
      "100%|███████████████████████████████████████████████████████████████████████████████████████████████████████████████████████████████████████████████████████| 150/150 [00:14<00:00, 10.14it/s]\n"
     ]
    },
    {
     "data": {
      "image/png": "[encoded data removed]",
      "text/plain": [
       "<Figure size 216x144 with 1 Axes>"
      ]
     },
     "metadata": {
      "needs_background": "light"
     },
     "output_type": "display_data"
    },
    {
     "data": {
      "image/png": "[encoded data removed]",
      "text/plain": [
       "<Figure size 216x144 with 1 Axes>"
      ]
     },
     "metadata": {
      "needs_background": "light"
     },
     "output_type": "display_data"
    },
    {
     "name": "stderr",
     "output_type": "stream",
     "text": [
      "100%|███████████████████████████████████████████████████████████████████████████████████████████████████████████████████████████████████████████████████████| 150/150 [00:15<00:00,  9.51it/s]\n"
     ]
    },
    {
     "data": {
      "image/png": "[encoded data removed]",
      "text/plain": [
       "<Figure size 216x144 with 1 Axes>"
      ]
     },
     "metadata": {
      "needs_background": "light"
     },
     "output_type": "display_data"
    },
    {
     "data": {
      "image/png": "[encoded data removed]",
      "text/plain": [
       "<Figure size 216x144 with 1 Axes>"
      ]
     },
     "metadata": {
      "needs_background": "light"
     },
     "output_type": "display_data"
    },
    {
     "name": "stdout",
     "output_type": "stream",
     "text": [
      "acc: 0.7105\n"
     ]
    }
   ],
   "source": [
    "## cat/dog train-set\n",
    "tgt_train = torch.tensor(CIFAR10('/tmp', train=True, download=True).targets)\n",
    "mask = (tgt_train == 3) | (tgt_train == 5)\n",
    "ii0 = torch.arange(50000)[mask]\n",
    "train_loader = CifarSubset(ii0[:1000], train=True).ffcv('catdog_train_10p', aug=True, shuffle=True) # first 10%\n",
    "\n",
    "models0 = [train(train_loader) for _ in range(5)]\n",
    "model0 = Ensemble(models0)\n",
    "print('acc:', evaluate(model0))"
   ]
  },
  {
   "cell_type": "code",
   "execution_count": 11,
   "id": "5a099022",
   "metadata": {
    "scrolled": true
   },
   "outputs": [
    {
     "name": "stdout",
     "output_type": "stream",
     "text": [
      "Files already downloaded and verified\n",
      "Writing new ffcv dset...\n"
     ]
    },
    {
     "name": "stderr",
     "output_type": "stream",
     "text": [
      "100%|██████████████████████████████████████████████████████████████████████████████████████████████████████████████████████████████████████████████████| 9000/9000 [00:00<00:00, 89687.04it/s]\n",
      "100%|█████████████████████████████████████████████████████████████████████████████████████████████████████████████████████████████████████████████████████████| 20/20 [00:09<00:00,  2.20it/s]\n"
     ]
    }
   ],
   "source": [
    "train_loader = CifarSubset(ii0[1000:], train=True).ffcv('catdog_train_90p', aug=True, shuffle=False)\n",
    "outputs_l = []\n",
    "labels_l = []\n",
    "model = model0\n",
    "model.eval()\n",
    "k = 20\n",
    "for _ in tqdm(range(k)):\n",
    "    with torch.no_grad(), autocast():\n",
    "        for inputs, labels in train_loader:\n",
    "            outputs = model(inputs.cuda())\n",
    "            outputs_l.append(outputs.cpu())\n",
    "            labels_l.append(labels.clone().cpu())\n",
    "outputs = torch.cat(outputs_l).reshape(k, -1, outputs_l[0].size(-1)).mean(0)\n",
    "deltas = outputs[:, 5] - outputs[:, 3]\n",
    "labels = torch.cat(labels_l).reshape(k, -1)[0]\n",
    "y_true = (labels == 5)\n",
    "conf_correct = deltas * (2 * y_true.float() - 1)"
   ]
  },
  {
   "cell_type": "code",
   "execution_count": 12,
   "id": "2ea16d23",
   "metadata": {
    "scrolled": true
   },
   "outputs": [
    {
     "name": "stdout",
     "output_type": "stream",
     "text": [
      "tensor(-2.5781) tensor(-1.9766)\n",
      "num: 1500\n",
      "Files already downloaded and verified\n",
      "Writing new ffcv dset...\n"
     ]
    },
    {
     "name": "stderr",
     "output_type": "stream",
     "text": [
      "100%|██████████████████████████████████████████████████████████████████████████████████████████████████████████████████████████████████████████████████| 1500/1500 [00:00<00:00, 14950.65it/s]\n"
     ]
    }
   ],
   "source": [
    "mask_cat = (tgt_train[ii0] == 3)[1000:]\n",
    "n = 1500\n",
    "q1 = conf_correct[~mask_cat].quantile(n/9000)\n",
    "mask1 = (conf_correct < q1)\n",
    "q2 = conf_correct[mask_cat].quantile(n/9000)\n",
    "mask2 = (conf_correct < q2)\n",
    "mask = (mask1 & ~mask_cat) | (mask2 & mask_cat)\n",
    "print(q1, q2)\n",
    "\n",
    "ii1 = ii0[1000:][mask]\n",
    "print('num:', len(ii1))\n",
    "# print(pd.Series(tgt_train[ii1]).value_counts() / len(ii1))\n",
    "train_loader = CifarSubset(ii1, train=True).ffcv('catdog_train_hard_15p', aug=True)"
   ]
  },
  {
   "cell_type": "code",
   "execution_count": 13,
   "id": "f446c662",
   "metadata": {
    "scrolled": false
   },
   "outputs": [
    {
     "name": "stderr",
     "output_type": "stream",
     "text": [
      "100%|███████████████████████████████████████████████████████████████████████████████████████████████████████████████████████████████████████████████████████| 150/150 [00:18<00:00,  8.17it/s]\n"
     ]
    },
    {
     "data": {
      "image/png": "[encoded data removed]",
      "text/plain": [
       "<Figure size 216x144 with 1 Axes>"
      ]
     },
     "metadata": {
      "needs_background": "light"
     },
     "output_type": "display_data"
    },
    {
     "data": {
      "image/png": "[encoded data removed]",
      "text/plain": [
       "<Figure size 216x144 with 1 Axes>"
      ]
     },
     "metadata": {
      "needs_background": "light"
     },
     "output_type": "display_data"
    },
    {
     "name": "stdout",
     "output_type": "stream",
     "text": [
      "acc: 0.377\n"
     ]
    }
   ],
   "source": [
    "model2 = train(train_loader)\n",
    "print('acc:', evaluate(model2))"
   ]
  },
  {
   "cell_type": "code",
   "execution_count": 14,
   "id": "71e668cb",
   "metadata": {},
   "outputs": [
    {
     "data": {
      "image/png": "[encoded data removed]",
      "text/plain": [
       "<Figure size 432x432 with 1 Axes>"
      ]
     },
     "metadata": {
      "needs_background": "light"
     },
     "output_type": "display_data"
    }
   ],
   "source": [
    "## collect logit deltas to visualize ROC curve\n",
    "outputs_l = []\n",
    "labels_l = []\n",
    "model2.eval()\n",
    "with torch.no_grad(), autocast():\n",
    "    for inputs, labels in test_loader:\n",
    "        outputs_l.append(model2(inputs.cuda()).cpu())\n",
    "        labels_l.append(labels.clone().cpu())\n",
    "outputs = torch.cat(outputs_l)\n",
    "labels = torch.cat(labels_l)\n",
    "deltas = (outputs[:, 5] - outputs[:, 3]).cpu()\n",
    "\n",
    "y_score = deltas\n",
    "y_true = (labels == 5)\n",
    "\n",
    "plt.figure(figsize=(6, 6))\n",
    "\n",
    "plt.plot([0, 1], [0, 1], label='Random performance')\n",
    "# plt.scatter([0.5, 0.5], [0.5, 0.5])\n",
    "\n",
    "fpr, tpr, _ = sklearn.metrics.roc_curve(y_true, y_score)\n",
    "# y_pred = (y_score > 0).float()\n",
    "# tpr0 = (y_pred * y_true.float()).sum() / y_true.float().sum()\n",
    "# fpr0 = 1 - ((1 - y_pred) * (1 - y_true.float())).sum() / (1 - y_true.float()).sum()\n",
    "plt.plot(fpr, tpr, label='Train on mispredicted subset (worse than random)')\n",
    "# plt.scatter([fpr0], [tpr0])\n",
    "\n",
    "plt.xlabel('FPR')\n",
    "plt.ylabel('Recall')\n",
    "plt.title('ROC curve')\n",
    "plt.legend()\n",
    "plt.xlim(0, 1)\n",
    "plt.ylim(0, 1)\n",
    "plt.grid()\n",
    "plt.show()"
   ]
  },
  {
   "cell_type": "markdown",
   "id": "f58f5913",
   "metadata": {},
   "source": [
    "## interaction\n",
    "\n",
    "Def B as invert-set (hardest 1500  out of last 9k, when training on first 1k)\n",
    "* B -> 37.5%\n",
    "* ~B -> 62.5%\n",
    "\n",
    "Def A as last 9k minus B (-> 7500 examples)\n",
    "* A -> 85.5%\n",
    "* A+B -> 90.6%\n",
    "* A+~B -> 75.9%\n",
    "\n",
    "Def A as last 4k minus B (-> 3328 examples)\n",
    "* A -> 81.6%\n",
    "* A+B -> 86.3%\n",
    "* A+~B -> \n",
    "\n",
    "Def A as last 2k\n",
    "* A+B isn't better than A, while A+~B is still worse\n",
    "Def A as last 1k\n",
    "* A+B is worse than A, and A+~B is better"
   ]
  },
  {
   "cell_type": "code",
   "execution_count": 19,
   "id": "c3f704de",
   "metadata": {
    "scrolled": true
   },
   "outputs": [
    {
     "name": "stdout",
     "output_type": "stream",
     "text": [
      "8500 1500 10000\n"
     ]
    }
   ],
   "source": [
    "ii_a = ii0[:].tolist()\n",
    "# ii_a = ii0[:5000].tolist()\n",
    "# ii_a = ii0[-3000:].tolist()\n",
    "ii_b = ii1.tolist()\n",
    "ii_a = list(set(ii_a) - set(ii_b))\n",
    "ii_c = ii_a+ii_b\n",
    "print(len(ii_a), len(ii_b), len(ii_c))"
   ]
  },
  {
   "cell_type": "code",
   "execution_count": 20,
   "id": "1f4cac96",
   "metadata": {
    "scrolled": false
   },
   "outputs": [
    {
     "name": "stdout",
     "output_type": "stream",
     "text": [
      "Files already downloaded and verified\n",
      "Writing new ffcv dset...\n"
     ]
    },
    {
     "name": "stderr",
     "output_type": "stream",
     "text": [
      "100%|██████████████████████████████████████████████████████████████████████████████████████████████████████████████████████████████████████████████████| 8500/8500 [00:00<00:00, 84672.64it/s]\n",
      "100%|███████████████████████████████████████████████████████████████████████████████████████████████████████████████████████████████████████████████████████| 150/150 [00:39<00:00,  3.81it/s]\n"
     ]
    },
    {
     "data": {
      "image/png": "[encoded data removed]",
      "text/plain": [
       "<Figure size 216x144 with 1 Axes>"
      ]
     },
     "metadata": {
      "needs_background": "light"
     },
     "output_type": "display_data"
    },
    {
     "data": {
      "image/png": "[encoded data removed]",
      "text/plain": [
       "<Figure size 216x144 with 1 Axes>"
      ]
     },
     "metadata": {
      "needs_background": "light"
     },
     "output_type": "display_data"
    },
    {
     "name": "stdout",
     "output_type": "stream",
     "text": [
      "acc: 0.8585\n"
     ]
    }
   ],
   "source": [
    "train_loader = CifarSubset(ii_a, train=True).ffcv('catdog_train_v11', aug=True)\n",
    "model3 = train(train_loader)\n",
    "print('acc:', evaluate(model3))"
   ]
  },
  {
   "cell_type": "code",
   "execution_count": 21,
   "id": "689b38aa",
   "metadata": {
    "scrolled": false
   },
   "outputs": [
    {
     "name": "stdout",
     "output_type": "stream",
     "text": [
      "Files already downloaded and verified\n",
      "Writing new ffcv dset...\n"
     ]
    },
    {
     "name": "stderr",
     "output_type": "stream",
     "text": [
      "100%|████████████████████████████████████████████████████████████████████████████████████████████████████████████████████████████████████████████████| 10000/10000 [00:00<00:00, 99661.03it/s]\n",
      "100%|███████████████████████████████████████████████████████████████████████████████████████████████████████████████████████████████████████████████████████| 150/150 [00:42<00:00,  3.50it/s]\n"
     ]
    },
    {
     "data": {
      "image/png": "[encoded data removed]",
      "text/plain": [
       "<Figure size 216x144 with 1 Axes>"
      ]
     },
     "metadata": {
      "needs_background": "light"
     },
     "output_type": "display_data"
    },
    {
     "data": {
      "image/png": "[encoded data removed]",
      "text/plain": [
       "<Figure size 216x144 with 1 Axes>"
      ]
     },
     "metadata": {
      "needs_background": "light"
     },
     "output_type": "display_data"
    },
    {
     "name": "stdout",
     "output_type": "stream",
     "text": [
      "acc: 0.9075\n"
     ]
    }
   ],
   "source": [
    "train_loader = CifarSubset(ii_c, train=True).ffcv('catdog_train_v13', aug=True)\n",
    "model3 = train(train_loader)\n",
    "print('acc:', evaluate(model3))"
   ]
  },
  {
   "cell_type": "code",
   "execution_count": 22,
   "id": "86534826",
   "metadata": {},
   "outputs": [
    {
     "name": "stdout",
     "output_type": "stream",
     "text": [
      "Files already downloaded and verified\n",
      "Writing new ffcv dset...\n"
     ]
    },
    {
     "name": "stderr",
     "output_type": "stream",
     "text": [
      "100%|████████████████████████████████████████████████████████████████████████████████████████████████████████████████████████████████████████████████| 10000/10000 [00:00<00:00, 99677.60it/s]\n",
      "100%|███████████████████████████████████████████████████████████████████████████████████████████████████████████████████████████████████████████████████████| 150/150 [00:42<00:00,  3.53it/s]\n"
     ]
    },
    {
     "data": {
      "image/png": "[encoded data removed]",
      "text/plain": [
       "<Figure size 216x144 with 1 Axes>"
      ]
     },
     "metadata": {
      "needs_background": "light"
     },
     "output_type": "display_data"
    },
    {
     "data": {
      "image/png": "[encoded data removed]",
      "text/plain": [
       "<Figure size 216x144 with 1 Axes>"
      ]
     },
     "metadata": {
      "needs_background": "light"
     },
     "output_type": "display_data"
    },
    {
     "name": "stdout",
     "output_type": "stream",
     "text": [
      "acc: 0.776\n"
     ]
    }
   ],
   "source": [
    "train_loader = CifarSubset(ii_c, train=True, invert_ii=ii_b).ffcv('catdog_train_v15', aug=True)\n",
    "model3 = train(train_loader)\n",
    "print('acc:', evaluate(model3))"
   ]
  },
  {
   "cell_type": "code",
   "execution_count": null,
   "id": "1ab8d8a9",
   "metadata": {},
   "outputs": [],
   "source": []
  },
  {
   "cell_type": "code",
   "execution_count": null,
   "id": "ed046b71",
   "metadata": {},
   "outputs": [],
   "source": []
  },
  {
   "cell_type": "code",
   "execution_count": null,
   "id": "58173aac",
   "metadata": {},
   "outputs": [],
   "source": []
  }
 ],
 "metadata": {
  "kernelspec": {
   "display_name": "Python 3 (ipykernel)",
   "language": "python",
   "name": "python3"
  },
  "language_info": {
   "codemirror_mode": {
    "name": "ipython",
    "version": 3
   },
   "file_extension": ".py",
   "mimetype": "text/x-python",
   "name": "python",
   "nbconvert_exporter": "python",
   "pygments_lexer": "ipython3",
   "version": "3.9.12"
  }
 },
 "nbformat": 4,
 "nbformat_minor": 5
}

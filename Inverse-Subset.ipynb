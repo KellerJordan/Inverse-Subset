{
 "cells": [
  {
   "cell_type": "markdown",
   "id": "cb751905",
   "metadata": {},
   "source": [
    "## Inverse-Subset\n",
    "\n",
    "This notebook constructs a subset of CIFAR-10 cat/dog data, on which it's better to train with inverted labels than the true labels.\n",
    "\n",
    "Steps executed:\n",
    "1. Train a model on 15% of cat/dog training examples (-> 75% acc).\n",
    "2. On the remaining 85%, evaluate the model.\n",
    "3. Take the 15% of that which is most confidently mis-predicted.\n",
    "4. Train on this subset (-> 37% acc).\n",
    "\n",
    "If the labels of this subset are inverted, it should be clear that this will yield 100 - 37 = 63% accuracy."
   ]
  },
  {
   "cell_type": "code",
   "execution_count": 2,
   "id": "0a89d3c6",
   "metadata": {},
   "outputs": [],
   "source": [
    "import os\n",
    "\n",
    "from tqdm import tqdm\n",
    "import numpy as np\n",
    "import pandas as pd\n",
    "import sklearn.metrics\n",
    "import matplotlib.pyplot as plt\n",
    "\n",
    "import torch\n",
    "from torch import nn\n",
    "from torch.cuda.amp import GradScaler, autocast\n",
    "from torch.nn import CrossEntropyLoss\n",
    "from torch.optim import SGD, lr_scheduler\n",
    "import torchvision\n",
    "from torchvision.datasets import CIFAR10\n",
    "import torchvision.transforms as T\n",
    "from torch.utils.data import DataLoader"
   ]
  },
  {
   "cell_type": "code",
   "execution_count": 8,
   "id": "6103bd35",
   "metadata": {},
   "outputs": [],
   "source": [
    "CIFAR_MEAN = [125.307, 122.961, 113.8575]\n",
    "CIFAR_STD = [51.5865, 50.847, 51.255]\n",
    "\n",
    "class TransformWrapperDataset:\n",
    "    def __init__(self, dset, transform):\n",
    "        self.dset = dset\n",
    "        self.transform = transform\n",
    "        \n",
    "    def __len__(self):\n",
    "        return len(self.dset)\n",
    "    \n",
    "    def __getitem__(self, i):\n",
    "        x, y = self.dset[i]\n",
    "        return self.transform(x), y\n",
    "\n",
    "class CifarSubset:\n",
    "    def __init__(self, ii, train=True, aug=None):\n",
    "        self.ii = ii\n",
    "        self.dset = CIFAR10('/tmp', train=train, download=True)\n",
    "        \n",
    "    def __len__(self):\n",
    "        return len(self.ii)\n",
    "    \n",
    "    def __getitem__(self, i):\n",
    "        return self.dset[self.ii[i]]\n",
    "    \n",
    "    def loader(self, bs=500, aug=False, shuffle=None):\n",
    "        normalize = T.Normalize(np.array(CIFAR_MEAN)/255, np.array(CIFAR_STD)/255)\n",
    "        if shuffle is None:\n",
    "            shuffle = aug\n",
    "        if aug:\n",
    "            transform = T.Compose([\n",
    "                T.RandomHorizontalFlip(),\n",
    "                T.RandomCrop(32, padding=2),\n",
    "                T.ToTensor(),\n",
    "                normalize,\n",
    "            ])\n",
    "        else:\n",
    "            transform = T.Compose([\n",
    "                T.ToTensor(),\n",
    "                normalize,\n",
    "            ])\n",
    "        loader = DataLoader(TransformWrapperDataset(self, transform),\n",
    "                            batch_size=bs, shuffle=shuffle, num_workers=8)\n",
    "        return loader"
   ]
  },
  {
   "cell_type": "code",
   "execution_count": 9,
   "id": "a16e1bf7",
   "metadata": {},
   "outputs": [],
   "source": [
    "def create_model(w=1.0):\n",
    "\n",
    "    class Mul(nn.Module):\n",
    "        def __init__(self, weight):\n",
    "            super().__init__()\n",
    "            self.weight = weight\n",
    "        def forward(self, x): \n",
    "            return x * self.weight\n",
    "\n",
    "    class Flatten(nn.Module):\n",
    "        def forward(self, x): \n",
    "            return x.view(x.size(0), -1) \n",
    "\n",
    "    class Residual(nn.Module):\n",
    "        def __init__(self, module):\n",
    "            super().__init__()\n",
    "            self.module = module\n",
    "        def forward(self, x): \n",
    "            return x + self.module(x)\n",
    "\n",
    "    def conv_bn(channels_in, channels_out, kernel_size=3, stride=1, padding=1):\n",
    "        return nn.Sequential(\n",
    "                nn.Conv2d(channels_in, channels_out,\n",
    "                          kernel_size=kernel_size, stride=stride, padding=padding,\n",
    "                          bias=False),\n",
    "                nn.BatchNorm2d(channels_out),\n",
    "                nn.ReLU(inplace=True)\n",
    "        )   \n",
    "\n",
    "    NUM_CLASSES = 10\n",
    "    w0 = int(w*64)\n",
    "    w1 = int(w*128)\n",
    "    w2 = int(w*256)\n",
    "    model = nn.Sequential(\n",
    "        conv_bn(3, w0, kernel_size=3, stride=1, padding=1),\n",
    "        conv_bn(w0, w1, kernel_size=5, stride=2, padding=2),\n",
    "        Residual(nn.Sequential(conv_bn(w1, w1), conv_bn(w1, w1))),\n",
    "        conv_bn(w1, w2, kernel_size=3, stride=1, padding=1),\n",
    "        nn.MaxPool2d(2),\n",
    "        Residual(nn.Sequential(conv_bn(w2, w2), conv_bn(w2, w2))),\n",
    "        conv_bn(w2, w1, kernel_size=3, stride=1, padding=0),\n",
    "        nn.AdaptiveMaxPool2d((1, 1)),\n",
    "        Flatten(),\n",
    "        nn.Linear(w1, NUM_CLASSES, bias=False),\n",
    "        Mul(0.2)\n",
    "    )   \n",
    "    model = model.to(memory_format=torch.channels_last)\n",
    "    return model"
   ]
  },
  {
   "cell_type": "code",
   "execution_count": 10,
   "id": "31e22780",
   "metadata": {},
   "outputs": [],
   "source": [
    "def evaluate(model):\n",
    "    model.eval()\n",
    "    correct = 0\n",
    "    count = 0\n",
    "    with torch.no_grad(), autocast():\n",
    "        for inputs, labels in test_loader:\n",
    "            outputs = model(inputs.cuda())\n",
    "            pred = outputs.argmax(dim=1)\n",
    "            correct += (labels.cuda() == pred).sum().item()\n",
    "            count += len(labels)\n",
    "    return correct / count"
   ]
  },
  {
   "cell_type": "code",
   "execution_count": 11,
   "id": "03156739",
   "metadata": {},
   "outputs": [],
   "source": [
    "loss_fn = CrossEntropyLoss()\n",
    "\n",
    "def train(epochs=200):\n",
    "\n",
    "    # lr = 0.5\n",
    "    lr = 1.0\n",
    "    n_iters = epochs * len(train_loader)\n",
    "    lr_schedule = np.interp(np.arange(1+n_iters), [0, n_iters], [1, 0])\n",
    "    \n",
    "    model = create_model(w=1.0).cuda()\n",
    "    scaler = GradScaler()\n",
    "\n",
    "    optimizer = SGD(model.parameters(), lr=lr, momentum=0.9, weight_decay=5e-4)\n",
    "    scheduler = lr_scheduler.LambdaLR(optimizer, lr_schedule.__getitem__)\n",
    "\n",
    "    losses = []\n",
    "    accs = []\n",
    "    for epoch in tqdm(range(epochs)):\n",
    "        model.train()\n",
    "        for inputs, labels in train_loader:\n",
    "            with autocast():\n",
    "                outputs = model(inputs.cuda())\n",
    "                loss = loss_fn(outputs, labels.cuda())\n",
    "            scaler.scale(loss).backward()\n",
    "            losses.append(loss.item())\n",
    "            scaler.step(optimizer)\n",
    "            scaler.update()\n",
    "            scheduler.step()\n",
    "        if epoch % 5 == 0:\n",
    "            acc = evaluate(model)\n",
    "            accs.append(acc)\n",
    "    plt.figure(figsize=(3, 2))\n",
    "    plt.title('loss')\n",
    "    plt.plot(losses)\n",
    "    plt.ylim(0, 2.5)\n",
    "    plt.show()\n",
    "    plt.figure(figsize=(3, 2))\n",
    "    plt.title('acc')\n",
    "    plt.plot(accs)\n",
    "    plt.show()\n",
    "    return model"
   ]
  },
  {
   "cell_type": "code",
   "execution_count": 13,
   "id": "082209e2",
   "metadata": {},
   "outputs": [
    {
     "name": "stdout",
     "output_type": "stream",
     "text": [
      "Downloading https://www.cs.toronto.edu/~kriz/cifar-10-python.tar.gz to /tmp/cifar-10-python.tar.gz\n"
     ]
    },
    {
     "data": {
      "application/vnd.jupyter.widget-view+json": {
       "model_id": "1518862cdd7143b2bf2a07e1c1f7fc1f",
       "version_major": 2,
       "version_minor": 0
      },
      "text/plain": [
       "  0%|          | 0/170498071 [00:00<?, ?it/s]"
      ]
     },
     "metadata": {},
     "output_type": "display_data"
    },
    {
     "name": "stdout",
     "output_type": "stream",
     "text": [
      "Extracting /tmp/cifar-10-python.tar.gz to /tmp\n",
      "Files already downloaded and verified\n"
     ]
    }
   ],
   "source": [
    "## cat/dog test-set\n",
    "tgt = torch.tensor(CIFAR10('/tmp', train=False, download=True).targets)\n",
    "mask = (tgt == 3) | (tgt == 5)\n",
    "ii = torch.arange(10000)[mask]\n",
    "# test_loader = CifarSubset(ii, train=False).loader()\n",
    "test_loader = CifarSubset(ii, train=False).loader(aug=False)"
   ]
  },
  {
   "cell_type": "code",
   "execution_count": 14,
   "id": "abe11132",
   "metadata": {
    "scrolled": true
   },
   "outputs": [
    {
     "name": "stdout",
     "output_type": "stream",
     "text": [
      "Files already downloaded and verified\n",
      "Files already downloaded and verified\n"
     ]
    }
   ],
   "source": [
    "## cat/dog train-set\n",
    "tgt = torch.tensor(CIFAR10('/tmp', train=True, download=True).targets)\n",
    "mask = (tgt == 3) | (tgt == 5)\n",
    "ii = torch.arange(50000)[mask]\n",
    "train_loader = CifarSubset(ii[:1500], train=True).loader(aug=True) # first 15%"
   ]
  },
  {
   "cell_type": "code",
   "execution_count": 15,
   "id": "51aeb73b",
   "metadata": {
    "scrolled": false
   },
   "outputs": [
    {
     "name": "stderr",
     "output_type": "stream",
     "text": [
      "100%|███████████████████████████████████████████████████████████████████████████████████████████████████████████████████████████████████████████████████████| 200/200 [05:18<00:00,  1.59s/it]\n"
     ]
    },
    {
     "data": {
      "image/png": "[encoded data removed]",
      "text/plain": [
       "<Figure size 216x144 with 1 Axes>"
      ]
     },
     "metadata": {
      "needs_background": "light"
     },
     "output_type": "display_data"
    },
    {
     "data": {
      "image/png": "[encoded data removed]",
      "text/plain": [
       "<Figure size 216x144 with 1 Axes>"
      ]
     },
     "metadata": {
      "needs_background": "light"
     },
     "output_type": "display_data"
    },
    {
     "name": "stdout",
     "output_type": "stream",
     "text": [
      "acc: 0.738\n"
     ]
    }
   ],
   "source": [
    "model0 = train()\n",
    "print('acc:', evaluate(model0))"
   ]
  },
  {
   "cell_type": "code",
   "execution_count": 16,
   "id": "5a099022",
   "metadata": {
    "scrolled": true
   },
   "outputs": [
    {
     "name": "stdout",
     "output_type": "stream",
     "text": [
      "Files already downloaded and verified\n"
     ]
    },
    {
     "name": "stderr",
     "output_type": "stream",
     "text": [
      "100%|█████████████████████████████████████████████████████████████████████████████████████████████████████████████████████████████████████████████████████████| 20/20 [00:32<00:00,  1.62s/it]\n"
     ]
    }
   ],
   "source": [
    "train_loader = CifarSubset(ii[1500:], train=True).loader(aug=True, shuffle=False)\n",
    "outputs_l = []\n",
    "labels_l = []\n",
    "model = model0\n",
    "model.eval()\n",
    "k = 20\n",
    "for _ in tqdm(range(k)):\n",
    "    with torch.no_grad(), autocast():\n",
    "        for inputs, labels in train_loader:\n",
    "            outputs = model(inputs.cuda())\n",
    "            outputs_l.append(outputs.cpu())\n",
    "            labels_l.append(labels.clone().cpu())\n",
    "outputs = torch.cat(outputs_l).reshape(k, -1, outputs_l[0].size(-1)).mean(0)\n",
    "deltas = outputs[:, 5] - outputs[:, 3]\n",
    "labels = torch.cat(labels_l).reshape(k, -1)[0]\n",
    "y_true = (labels == 5)\n",
    "conf_correct = deltas * (2 * y_true.float() - 1)"
   ]
  },
  {
   "cell_type": "code",
   "execution_count": 17,
   "id": "a6f740be",
   "metadata": {
    "scrolled": false
   },
   "outputs": [
    {
     "name": "stdout",
     "output_type": "stream",
     "text": [
      "tensor(0.1499) tensor(1274)\n",
      "Files already downloaded and verified\n",
      "3    0.50314\n",
      "5    0.49686\n",
      "dtype: float64\n"
     ]
    }
   ],
   "source": [
    "mask = (conf_correct < conf_correct.quantile(0.15))\n",
    "print(mask.float().mean(), mask.sum())\n",
    "\n",
    "ii1 = ii[1500:][mask]\n",
    "print(pd.Series(tgt[ii1]).value_counts() / len(ii1))\n",
    "train_loader = CifarSubset(ii1, train=True).loader(aug=True)"
   ]
  },
  {
   "cell_type": "code",
   "execution_count": 22,
   "id": "f446c662",
   "metadata": {
    "scrolled": false
   },
   "outputs": [
    {
     "name": "stderr",
     "output_type": "stream",
     "text": [
      "100%|███████████████████████████████████████████████████████████████████████████████████████████████████████████████████████████████████████████████████████| 200/200 [05:25<00:00,  1.63s/it]\n"
     ]
    },
    {
     "data": {
      "image/png": "[encoded data removed]",
      "text/plain": [
       "<Figure size 216x144 with 1 Axes>"
      ]
     },
     "metadata": {
      "needs_background": "light"
     },
     "output_type": "display_data"
    },
    {
     "data": {
      "image/png": "[encoded data removed]",
      "text/plain": [
       "<Figure size 216x144 with 1 Axes>"
      ]
     },
     "metadata": {
      "needs_background": "light"
     },
     "output_type": "display_data"
    },
    {
     "name": "stdout",
     "output_type": "stream",
     "text": [
      "acc: 0.375\n"
     ]
    }
   ],
   "source": [
    "model2 = train(epochs=200)\n",
    "print('acc:', evaluate(model2))"
   ]
  },
  {
   "cell_type": "code",
   "execution_count": 28,
   "id": "eac8bc44",
   "metadata": {},
   "outputs": [],
   "source": [
    "## collect logit deltas to visualize ROC curve\n",
    "outputs_l = []\n",
    "labels_l = []\n",
    "model2.eval()\n",
    "with torch.no_grad(), autocast():\n",
    "    for inputs, labels in test_loader:\n",
    "        outputs_l.append(model2(inputs.cuda()).cpu())\n",
    "        labels_l.append(labels.clone())\n",
    "outputs = torch.cat(outputs_l)\n",
    "labels = torch.cat(labels_l)\n",
    "deltas = outputs[:, 5] - outputs[:, 3]\n",
    "y_true = (labels == 5)"
   ]
  },
  {
   "cell_type": "code",
   "execution_count": 43,
   "id": "71e668cb",
   "metadata": {},
   "outputs": [
    {
     "data": {
      "image/png": "[encoded data removed]",
      "text/plain": [
       "<Figure size 432x432 with 1 Axes>"
      ]
     },
     "metadata": {
      "needs_background": "light"
     },
     "output_type": "display_data"
    }
   ],
   "source": [
    "y_score = deltas\n",
    "\n",
    "plt.figure(figsize=(6, 6))\n",
    "\n",
    "plt.plot([0, 1], [0, 1], label='Random performance')\n",
    "plt.scatter([0.5, 0.5], [0.5, 0.5])\n",
    "\n",
    "fpr, tpr, _ = sklearn.metrics.roc_curve(y_true, y_score)\n",
    "y_pred = (y_score > 0).float()\n",
    "tpr0 = (y_pred * y_true.float()).sum() / y_true.float().sum()\n",
    "fpr0 = 1 - ((1 - y_pred) * (1 - y_true.float())).sum() / (1 - y_true.float()).sum()\n",
    "plt.plot(fpr, tpr, label='Train on mispredicted subset (worse than random)')\n",
    "plt.scatter([fpr0], [tpr0])\n",
    "\n",
    "plt.xlabel('FPR')\n",
    "plt.ylabel('Recall')\n",
    "plt.title('ROC curve')\n",
    "plt.legend()\n",
    "plt.show()"
   ]
  },
  {
   "cell_type": "code",
   "execution_count": null,
   "id": "3bca7c16",
   "metadata": {},
   "outputs": [],
   "source": []
  },
  {
   "cell_type": "code",
   "execution_count": null,
   "id": "9e30055d",
   "metadata": {},
   "outputs": [],
   "source": []
  }
 ],
 "metadata": {
  "kernelspec": {
   "display_name": "Python 3 (ipykernel)",
   "language": "python",
   "name": "python3"
  },
  "language_info": {
   "codemirror_mode": {
    "name": "ipython",
    "version": 3
   },
   "file_extension": ".py",
   "mimetype": "text/x-python",
   "name": "python",
   "nbconvert_exporter": "python",
   "pygments_lexer": "ipython3",
   "version": "3.9.12"
  }
 },
 "nbformat": 4,
 "nbformat_minor": 5
}

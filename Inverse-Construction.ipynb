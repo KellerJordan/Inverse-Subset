{
 "cells": [
  {
   "cell_type": "markdown",
   "id": "cb751905",
   "metadata": {},
   "source": [
    "## Construction\n",
    "\n",
    "* accuracy of vanilla model (93.5 on main dist) on cat/dog is 92.4 (lr* = 0.5)\n",
    "* accuracy of model trained on just cat/dog train data is 91.3 (lr* = 1.0, epochs* = 200 (400 => 91.4))\n",
    "* using 40% of cat/dog => 79.4%\n",
    "\n",
    "steps\n",
    "1. Train a model on 40% of cat/dog training examples.\n",
    "2. On the remaining 60%, evaluate the model.\n",
    "3. Take the 10% which is most confidently mis-predicted."
   ]
  },
  {
   "cell_type": "code",
   "execution_count": 2,
   "id": "0a89d3c6",
   "metadata": {},
   "outputs": [],
   "source": [
    "import os\n",
    "\n",
    "from tqdm import tqdm\n",
    "import numpy as np\n",
    "import pandas as pd\n",
    "import sklearn.metrics\n",
    "import matplotlib.pyplot as plt\n",
    "\n",
    "import torch\n",
    "from torch import nn\n",
    "from torch.cuda.amp import GradScaler, autocast\n",
    "from torch.nn import CrossEntropyLoss\n",
    "from torch.optim import SGD, lr_scheduler\n",
    "import torchvision\n",
    "from torchvision.datasets import CIFAR10\n",
    "import torchvision.transforms as T\n",
    "from torch.utils.data import DataLoader\n",
    "\n",
    "from ffcv.fields.decoders import IntDecoder, SimpleRGBImageDecoder\n",
    "from ffcv.loader import Loader, OrderOption\n",
    "from ffcv.transforms import RandomHorizontalFlip, Cutout, \\\n",
    "    RandomTranslate, Convert, ToDevice, ToTensor, ToTorchImage\n",
    "from ffcv.transforms.common import Squeeze\n",
    "\n",
    "from ffcv.writer import DatasetWriter\n",
    "from ffcv.fields import IntField, RGBImageField"
   ]
  },
  {
   "cell_type": "code",
   "execution_count": 3,
   "id": "6103bd35",
   "metadata": {},
   "outputs": [],
   "source": [
    "CIFAR_MEAN = [125.307, 122.961, 113.8575]\n",
    "CIFAR_STD = [51.5865, 50.847, 51.255]\n",
    "\n",
    "class TransformWrapperDataset:\n",
    "    def __init__(self, dset, transform):\n",
    "        self.dset = dset\n",
    "        self.transform = transform\n",
    "        \n",
    "    def __len__(self):\n",
    "        return len(self.dset)\n",
    "    \n",
    "    def __getitem__(self, i):\n",
    "        x, y = self.dset[i]\n",
    "        return self.transform(x), y\n",
    "\n",
    "class CifarSubset:\n",
    "    def __init__(self, ii, train=True, aug=None):\n",
    "        self.ii = ii\n",
    "        self.dset = CIFAR10('/tmp', train=train)\n",
    "        \n",
    "    def __len__(self):\n",
    "        return len(self.ii)\n",
    "    \n",
    "    def __getitem__(self, i):\n",
    "        return self.dset[self.ii[i]]\n",
    "    \n",
    "    def loader(self, bs=500):\n",
    "        normalize = T.Normalize(np.array(CIFAR_MEAN)/255, np.array(CIFAR_STD)/255)\n",
    "        if self.dset.train:\n",
    "            transform = T.Compose([\n",
    "                T.RandomHorizontalFlip(),\n",
    "                T.RandomCrop(32, padding=4),\n",
    "                T.ToTensor(),\n",
    "                normalize,\n",
    "            ])\n",
    "        else:\n",
    "            transform = T.Compose([\n",
    "                T.ToTensor(),\n",
    "                normalize,\n",
    "            ])\n",
    "        loader = DataLoader(TransformWrapperDataset(self, transform),\n",
    "                            batch_size=bs, shuffle=self.dset.train, num_workers=8)\n",
    "        return loader\n",
    "    \n",
    "    def ffcv_loader(self, bs=500, name='tmp', aug=False, shuffle=None):\n",
    "        p = f'/tmp/cifar_{name}.beton'\n",
    "        if not os.path.exists(p):\n",
    "            writer = DatasetWriter(p, {\n",
    "                'image': RGBImageField(),\n",
    "                'label': IntField()\n",
    "            })  \n",
    "            writer.from_indexed_dataset(self)\n",
    "\n",
    "        device = 'cuda:0'\n",
    "        label_pipeline = [IntDecoder(), ToTensor(), ToDevice(device), Squeeze()]\n",
    "        image_pipeline = [SimpleRGBImageDecoder()]\n",
    "        if aug:\n",
    "            image_pipeline.extend([\n",
    "                RandomHorizontalFlip(),\n",
    "                RandomTranslate(padding=2),\n",
    "    #             Cutout(12, tuple(map(int, CIFAR_MEAN))),\n",
    "            ])  \n",
    "        image_pipeline.extend([\n",
    "            ToTensor(),\n",
    "            ToDevice(device, non_blocking=True),\n",
    "            ToTorchImage(),\n",
    "            Convert(torch.float16),\n",
    "            T.Normalize(CIFAR_MEAN, CIFAR_STD),\n",
    "        ])\n",
    "        if shuffle is None:\n",
    "            shuffle = aug\n",
    "        order_opt = OrderOption.RANDOM if shuffle else OrderOption.SEQUENTIAL\n",
    "        loader = Loader(p,\n",
    "                        batch_size=bs,\n",
    "                        num_workers=8,\n",
    "                        order=order_opt,\n",
    "                        drop_last=aug,\n",
    "                        pipelines={'image': image_pipeline,\n",
    "                                   'label': label_pipeline})\n",
    "        return loader"
   ]
  },
  {
   "cell_type": "code",
   "execution_count": 4,
   "id": "a16e1bf7",
   "metadata": {},
   "outputs": [],
   "source": [
    "def create_model(w=1.0):\n",
    "\n",
    "    class Mul(nn.Module):\n",
    "        def __init__(self, weight):\n",
    "            super().__init__()\n",
    "            self.weight = weight\n",
    "        def forward(self, x): \n",
    "            return x * self.weight\n",
    "\n",
    "    class Flatten(nn.Module):\n",
    "        def forward(self, x): \n",
    "            return x.view(x.size(0), -1) \n",
    "\n",
    "    class Residual(nn.Module):\n",
    "        def __init__(self, module):\n",
    "            super().__init__()\n",
    "            self.module = module\n",
    "        def forward(self, x): \n",
    "            return x + self.module(x)\n",
    "\n",
    "    def conv_bn(channels_in, channels_out, kernel_size=3, stride=1, padding=1):\n",
    "        return nn.Sequential(\n",
    "                nn.Conv2d(channels_in, channels_out,\n",
    "                          kernel_size=kernel_size, stride=stride, padding=padding,\n",
    "                          bias=False),\n",
    "                nn.BatchNorm2d(channels_out),\n",
    "                nn.ReLU(inplace=True)\n",
    "        )   \n",
    "\n",
    "    NUM_CLASSES = 10\n",
    "    w0 = int(w*64)\n",
    "    w1 = int(w*128)\n",
    "    w2 = int(w*256)\n",
    "    model = nn.Sequential(\n",
    "        conv_bn(3, w0, kernel_size=3, stride=1, padding=1),\n",
    "        conv_bn(w0, w1, kernel_size=5, stride=2, padding=2),\n",
    "        Residual(nn.Sequential(conv_bn(w1, w1), conv_bn(w1, w1))),\n",
    "        conv_bn(w1, w2, kernel_size=3, stride=1, padding=1),\n",
    "        nn.MaxPool2d(2),\n",
    "        Residual(nn.Sequential(conv_bn(w2, w2), conv_bn(w2, w2))),\n",
    "        conv_bn(w2, w1, kernel_size=3, stride=1, padding=0),\n",
    "        nn.AdaptiveMaxPool2d((1, 1)),\n",
    "        Flatten(),\n",
    "        nn.Linear(w1, NUM_CLASSES, bias=False),\n",
    "        Mul(0.2)\n",
    "    )   \n",
    "    model = model.to(memory_format=torch.channels_last)\n",
    "    return model"
   ]
  },
  {
   "cell_type": "code",
   "execution_count": 5,
   "id": "31e22780",
   "metadata": {},
   "outputs": [],
   "source": [
    "def evaluate(model):\n",
    "    model.eval()\n",
    "    correct = 0\n",
    "    count = 0\n",
    "    with torch.no_grad(), autocast():\n",
    "        for inputs, labels in test_loader:\n",
    "            outputs = model(inputs.cuda())\n",
    "            pred = outputs.argmax(dim=1)\n",
    "            correct += (labels.cuda() == pred).sum().item()\n",
    "            count += len(labels)\n",
    "    return correct / count"
   ]
  },
  {
   "cell_type": "code",
   "execution_count": 6,
   "id": "03156739",
   "metadata": {},
   "outputs": [],
   "source": [
    "loss_fn = CrossEntropyLoss()\n",
    "\n",
    "def train(epochs=200):\n",
    "\n",
    "    # lr = 0.5\n",
    "    lr = 1.0\n",
    "    n_iters = epochs * len(train_loader)\n",
    "    lr_schedule = np.interp(np.arange(1+n_iters), [0, n_iters], [1, 0])\n",
    "    \n",
    "    model = create_model(w=1.0).cuda()\n",
    "    scaler = GradScaler()\n",
    "\n",
    "    optimizer = SGD(model.parameters(), lr=lr, momentum=0.9, weight_decay=5e-4)\n",
    "    scheduler = lr_scheduler.LambdaLR(optimizer, lr_schedule.__getitem__)\n",
    "\n",
    "    losses = []\n",
    "    accs = []\n",
    "    for epoch in tqdm(range(epochs)):\n",
    "        model.train()\n",
    "        for inputs, labels in train_loader:\n",
    "            with autocast():\n",
    "                outputs = model(inputs.cuda())\n",
    "                loss = loss_fn(outputs, labels.cuda())\n",
    "            scaler.scale(loss).backward()\n",
    "            losses.append(loss.item())\n",
    "            scaler.step(optimizer)\n",
    "            scaler.update()\n",
    "            scheduler.step()\n",
    "        if epoch % 5 == 0:\n",
    "            acc = evaluate(model)\n",
    "            accs.append(acc)\n",
    "    plt.figure(figsize=(3, 2))\n",
    "    plt.title('loss')\n",
    "    plt.plot(losses)\n",
    "    plt.show()\n",
    "    plt.figure(figsize=(3, 2))\n",
    "    plt.title('acc')\n",
    "    plt.plot(accs)\n",
    "    plt.show()\n",
    "    return model"
   ]
  },
  {
   "cell_type": "code",
   "execution_count": 7,
   "id": "082209e2",
   "metadata": {},
   "outputs": [
    {
     "name": "stderr",
     "output_type": "stream",
     "text": [
      "100%|██████████████████████████████████████████████████████████████████████████████████████████████████████████████████████████████████████████████████| 2000/2000 [00:00<00:00, 19935.14it/s]\n"
     ]
    }
   ],
   "source": [
    "## cat/dog test-set\n",
    "tgt = torch.tensor(CIFAR10('/tmp', train=False).targets)\n",
    "mask = (tgt == 3) | (tgt == 5)\n",
    "ii = torch.arange(10000)[mask]\n",
    "# test_loader = CifarSubset(ii, train=False).loader()\n",
    "test_loader = CifarSubset(ii, train=False).ffcv_loader(name='catdog_test')"
   ]
  },
  {
   "cell_type": "code",
   "execution_count": 8,
   "id": "abe11132",
   "metadata": {
    "scrolled": true
   },
   "outputs": [
    {
     "name": "stderr",
     "output_type": "stream",
     "text": [
      "100%|██████████████████████████████████████████████████████████████████████████████████████████████████████████████████████████████████████████████████| 1500/1500 [00:00<00:00, 14961.45it/s]\n"
     ]
    }
   ],
   "source": [
    "## cat/dog train-set\n",
    "tgt = torch.tensor(CIFAR10('/tmp', train=True).targets)\n",
    "mask = (tgt == 3) | (tgt == 5)\n",
    "ii = torch.arange(50000)[mask]\n",
    "# train_loader = CifarSubset(ii, train=True).ffcv_loader(name='catdog_train', aug=True)\n",
    "train_loader = CifarSubset(ii[:1500], train=True).ffcv_loader(name='catdog_train_15p', aug=True) # first 15%"
   ]
  },
  {
   "cell_type": "code",
   "execution_count": 9,
   "id": "51aeb73b",
   "metadata": {
    "scrolled": false
   },
   "outputs": [
    {
     "name": "stderr",
     "output_type": "stream",
     "text": [
      "100%|███████████████████████████████████████████████████████████████████████████████████████████████████████████████████████████████████████████████████████| 200/200 [00:34<00:00,  5.79it/s]\n"
     ]
    },
    {
     "data": {
      "image/png": "[encoded data removed]",
      "text/plain": [
       "<Figure size 216x144 with 1 Axes>"
      ]
     },
     "metadata": {
      "needs_background": "light"
     },
     "output_type": "display_data"
    },
    {
     "data": {
      "image/png": "[encoded data removed]",
      "text/plain": [
       "<Figure size 216x144 with 1 Axes>"
      ]
     },
     "metadata": {
      "needs_background": "light"
     },
     "output_type": "display_data"
    },
    {
     "name": "stdout",
     "output_type": "stream",
     "text": [
      "acc: 0.00038\n"
     ]
    }
   ],
   "source": [
    "model0 = train()\n",
    "print('acc:', evaluate(model0))"
   ]
  },
  {
   "cell_type": "code",
   "execution_count": 18,
   "id": "c361b447",
   "metadata": {},
   "outputs": [
    {
     "name": "stdout",
     "output_type": "stream",
     "text": [
      "acc: 0.76\n"
     ]
    }
   ],
   "source": [
    "print('acc:', evaluate(model0))"
   ]
  },
  {
   "cell_type": "code",
   "execution_count": 10,
   "id": "5a099022",
   "metadata": {
    "scrolled": true
   },
   "outputs": [
    {
     "name": "stderr",
     "output_type": "stream",
     "text": [
      "100%|██████████████████████████████████████████████████████████████████████████████████████████████████████████████████████████████████████████████████| 8500/8500 [00:00<00:00, 84808.40it/s]\n",
      "100%|█████████████████████████████████████████████████████████████████████████████████████████████████████████████████████████████████████████████████████████| 20/20 [00:05<00:00,  3.75it/s]\n"
     ]
    },
    {
     "data": {
      "text/plain": [
       "tensor(0.7506)"
      ]
     },
     "execution_count": 10,
     "metadata": {},
     "output_type": "execute_result"
    }
   ],
   "source": [
    "## use data augmentation too\n",
    "train_loader = CifarSubset(ii[1500:], train=True).ffcv_loader(name='catdog_train_85p', aug=True, shuffle=False)\n",
    "outputs_l = []\n",
    "labels_l = []\n",
    "model = model0\n",
    "model.eval()\n",
    "k = 20\n",
    "for _ in tqdm(range(k)):\n",
    "    with torch.no_grad(), autocast():\n",
    "        for inputs, labels in train_loader:\n",
    "            outputs = model(inputs.cuda())\n",
    "            outputs_l.append(outputs.cpu())\n",
    "            labels_l.append(labels.clone().cpu())\n",
    "outputs = torch.cat(outputs_l).reshape(k, -1, outputs_l[0].size(-1)).mean(0)\n",
    "labels = torch.cat(labels_l).reshape(k, -1)[0]\n",
    "deltas = outputs[:, 5] - outputs[:, 3]\n",
    "y_pred = (deltas > 0)\n",
    "y_true = (labels == 5)\n",
    "conf_correct = deltas * (2 * y_true.float() - 1)\n",
    "(y_pred == y_true).float().mean()"
   ]
  },
  {
   "cell_type": "code",
   "execution_count": 11,
   "id": "a6f740be",
   "metadata": {
    "scrolled": false
   },
   "outputs": [
    {
     "name": "stdout",
     "output_type": "stream",
     "text": [
      "tensor(0.1362) tensor(1158)\n"
     ]
    },
    {
     "name": "stderr",
     "output_type": "stream",
     "text": [
      "100%|██████████████████████████████████████████████████████████████████████████████████████████████████████████████████████████████████████████████████| 1158/1158 [00:00<00:00, 11551.15it/s]\n"
     ]
    }
   ],
   "source": [
    "mask = (conf_correct < -3)\n",
    "print(mask.float().mean(), mask.sum())\n",
    "\n",
    "ii1 = ii[1500:][mask]\n",
    "train_loader = CifarSubset(ii1, train=True).ffcv_loader(name='catdog_train_85p_wrong3', aug=True)\n",
    "# print(pd.Series(tgt[ii1]).value_counts())"
   ]
  },
  {
   "cell_type": "code",
   "execution_count": 12,
   "id": "f446c662",
   "metadata": {
    "scrolled": false
   },
   "outputs": [
    {
     "name": "stderr",
     "output_type": "stream",
     "text": [
      "100%|███████████████████████████████████████████████████████████████████████████████████████████████████████████████████████████████████████████████████████| 200/200 [00:22<00:00,  8.74it/s]\n"
     ]
    },
    {
     "data": {
      "image/png": "[encoded data removed]",
      "text/plain": [
       "<Figure size 216x144 with 1 Axes>"
      ]
     },
     "metadata": {
      "needs_background": "light"
     },
     "output_type": "display_data"
    },
    {
     "data": {
      "image/png": "[encoded data removed]",
      "text/plain": [
       "<Figure size 216x144 with 1 Axes>"
      ]
     },
     "metadata": {
      "needs_background": "light"
     },
     "output_type": "display_data"
    }
   ],
   "source": [
    "model2 = train(epochs=200)"
   ]
  },
  {
   "cell_type": "code",
   "execution_count": 17,
   "id": "9c492962",
   "metadata": {
    "scrolled": true
   },
   "outputs": [
    {
     "data": {
      "text/plain": [
       "0.3765"
      ]
     },
     "execution_count": 17,
     "metadata": {},
     "output_type": "execute_result"
    }
   ],
   "source": [
    "evaluate(model2)"
   ]
  },
  {
   "cell_type": "code",
   "execution_count": 14,
   "id": "71e668cb",
   "metadata": {},
   "outputs": [],
   "source": [
    "scores = []\n",
    "def viz(y_score=None):\n",
    "    y_true1 = y_true.float()\n",
    "    plt.figure(figsize=(5, 5))\n",
    "    if y_score is not None:\n",
    "        scores.append(y_score)\n",
    "    plt.plot([0, 1], [1, 0])\n",
    "    plt.scatter([0.5, 0.5], [0.5, 0.5])\n",
    "    for y_score in scores:\n",
    "        fpr, tpr, _ = sklearn.metrics.roc_curve(y_true, y_score)\n",
    "        plt.plot(tpr, 1-fpr)\n",
    "        y_pred = (y_score > 0).float()\n",
    "        tpr0 = (y_pred * y_true1).sum() / y_true1.sum()\n",
    "        tnr0 = ((1 - y_pred) * (1 - y_true1)).sum() / (1 - y_true1).sum()\n",
    "        plt.scatter([tpr0], [tnr0])\n",
    "    plt.xlabel('TPR')\n",
    "    plt.ylabel('FPR')\n",
    "    plt.title('ROC curve')\n",
    "    plt.show()"
   ]
  },
  {
   "cell_type": "code",
   "execution_count": 15,
   "id": "a73ea780",
   "metadata": {},
   "outputs": [
    {
     "data": {
      "text/plain": [
       "tensor(0.3765)"
      ]
     },
     "execution_count": 15,
     "metadata": {},
     "output_type": "execute_result"
    }
   ],
   "source": [
    "outputs_l = []\n",
    "labels_l = []\n",
    "model = model2\n",
    "model.eval()\n",
    "with torch.no_grad(), autocast():\n",
    "    for inputs, labels in test_loader:\n",
    "        outputs = model(inputs.cuda())\n",
    "        outputs_l.append(outputs.cpu())\n",
    "        labels_l.append(labels.clone().cpu())\n",
    "outputs = torch.cat(outputs_l)\n",
    "labels = torch.cat(labels_l)\n",
    "deltas = outputs[:, 5] - outputs[:, 3]\n",
    "y_pred = (deltas > 0)\n",
    "y_true = (labels == 5)\n",
    "(y_pred == y_true).float().mean()"
   ]
  },
  {
   "cell_type": "code",
   "execution_count": 16,
   "id": "f808083c",
   "metadata": {},
   "outputs": [
    {
     "data": {
      "image/png": "[encoded data removed]",
      "text/plain": [
       "<Figure size 360x360 with 1 Axes>"
      ]
     },
     "metadata": {
      "needs_background": "light"
     },
     "output_type": "display_data"
    }
   ],
   "source": [
    "viz(deltas)"
   ]
  },
  {
   "cell_type": "code",
   "execution_count": null,
   "id": "3bca7c16",
   "metadata": {},
   "outputs": [],
   "source": []
  },
  {
   "cell_type": "code",
   "execution_count": null,
   "id": "9e30055d",
   "metadata": {},
   "outputs": [],
   "source": []
  }
 ],
 "metadata": {
  "kernelspec": {
   "display_name": "Python 3 (ipykernel)",
   "language": "python",
   "name": "python3"
  },
  "language_info": {
   "codemirror_mode": {
    "name": "ipython",
    "version": 3
   },
   "file_extension": ".py",
   "mimetype": "text/x-python",
   "name": "python",
   "nbconvert_exporter": "python",
   "pygments_lexer": "ipython3",
   "version": "3.9.12"
  }
 },
 "nbformat": 4,
 "nbformat_minor": 5
}
